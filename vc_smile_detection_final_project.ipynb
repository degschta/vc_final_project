{
 "cells": [
  {
   "cell_type": "code",
   "execution_count": 13,
   "metadata": {
    "id": "x1t_v3QkJOBX"
   },
   "outputs": [],
   "source": [
    "import cv2\n",
    "import csv\n",
    "from os import listdir"
   ]
  },
  {
   "cell_type": "code",
   "execution_count": 14,
   "metadata": {
    "id": "qiWPyJx3fGlQ"
   },
   "outputs": [],
   "source": [
    "true_positives = 0\n",
    "true_negatives = 0\n",
    "false_positives = 0\n",
    "false_negatives = 0"
   ]
  },
  {
   "cell_type": "code",
   "execution_count": 15,
   "metadata": {
    "id": "9gA3H6PyOYNi"
   },
   "outputs": [],
   "source": [
    "TRIAL_NUM = 3\n",
    "\n",
    "if TRIAL_NUM == 1:\n",
    "  cascade_path = cv2.data.haarcascades + 'haarcascade_smile.xml'\n",
    "  param_scale = 1.1\n",
    "  param_neighbors = 3\n",
    "elif TRIAL_NUM == 2:\n",
    "  cascade_path = cv2.data.haarcascades + 'haarcascade_smile.xml'\n",
    "  param_scale = 1.3\n",
    "  param_neighbors = 10\n",
    "elif TRIAL_NUM == 3:\n",
    "  cascade_path = 'cascade_w20_h10_numStages20_numPos1000.xml'\n",
    "  param_scale = 1.1\n",
    "  param_neighbors = 3\n",
    "elif TRIAL_NUM == 4:\n",
    "  cascade_path = 'cascade_w20_h10_numStages20_numPos1000.xml'\n",
    "  param_scale = 1.1\n",
    "  param_neighbors = 5"
   ]
  },
  {
   "cell_type": "code",
   "execution_count": 16,
   "metadata": {
    "colab": {
     "base_uri": "https://localhost:8080/",
     "height": 1000
    },
    "id": "tC7VWi6GKgYX",
    "outputId": "e537734e-aa52-4d97-8fbf-cfc557aed70d"
   },
   "outputs": [],
   "source": [
    "#Predict negative samples\n",
    "\n",
    "# First, a smile cascade is instantiated. \n",
    "# Then, the default/custom cascade is loaded into the CascadeClassifier object depending on the TRIAL_NUM specified.\n",
    "\n",
    "smile_cascade = cv2.CascadeClassifier()\n",
    "smile_cascade.load(cascade_path)\n",
    "\n",
    "#Change this directory path depending on where on the mounted Google Drive the negatives folder of the dataset is stored.\n",
    "negatives_directory = 'negatives7'\n",
    "\n",
    "#Iterate over all negative images from the dataset, run the classifier on each image, and increment the true_negatives and false_positives variables accordingly.\n",
    "counter = 0\n",
    "for filename in listdir(negatives_directory):\n",
    "  img = cv2.imread(negatives_directory + '/' + filename)\n",
    "  gray = cv2.cvtColor(img, cv2.COLOR_BGR2GRAY)\n",
    "\n",
    "  smile = smile_cascade.detectMultiScale(gray, param_scale, param_neighbors)\n",
    "  \n",
    "  if counter%100==0:\n",
    "    for (ex,ey,ew,eh) in smile:\n",
    "        cv2.rectangle(img,(ex,ey),(ex+ew,ey+eh),(0,255,0),2)\n",
    "        cv2.imshow('Example negative image visualization', img)\n",
    "  if isinstance(smile, tuple):\n",
    "    true_negatives = true_negatives+1\n",
    "  else:\n",
    "    false_positives = false_positives+1\n",
    "  counter = counter + 1"
   ]
  },
  {
   "cell_type": "code",
   "execution_count": 17,
   "metadata": {
    "colab": {
     "base_uri": "https://localhost:8080/",
     "height": 1000
    },
    "id": "26jZdth_eQzM",
    "outputId": "c5655cf8-be37-4ba6-af0d-0f73f740d5f5"
   },
   "outputs": [],
   "source": [
    "#Predict positive samples\n",
    "\n",
    "#Change this directory path depending on where on the mounted Google Drive the negatives folder of the dataset is stored.\n",
    "\n",
    "file = open('smiles_01_pos.idx')\n",
    "\n",
    "csvreader = csv.reader(file, delimiter=' ')\n",
    "\n",
    "#load ground truth smile locations for visualisation purposes\n",
    "\n",
    "pos_smile_locations = []\n",
    "\n",
    "for row in csvreader:\n",
    "        pos_smile_locations.append(row)\n",
    "\n",
    "#Iterate over all positive images from the dataset, run the classifier on each image, and increment the true_positives and false_negatives variables accordingly.\n",
    "\n",
    "counter = 0\n",
    "for row in pos_smile_locations:\n",
    "  img = cv2.imread(row[0])\n",
    "  gray = cv2.cvtColor(img, cv2.COLOR_BGR2GRAY)\n",
    "\n",
    "  smile = smile_cascade.detectMultiScale(gray, param_scale, param_neighbors)\n",
    "\n",
    "  x_pos = int(row[2])\n",
    "  y_pos = int(row[3])\n",
    "  width = int(row[4])\n",
    "  height = int(row[5])\n",
    "  cv2.rectangle(img,(x_pos,y_pos),(x_pos+width,y_pos+height),(255,0,0),2)\n",
    "\n",
    "  if counter%100==0:\n",
    "    for (ex,ey,ew,eh) in smile:\n",
    "      cv2.rectangle(img,(ex,ey),(ex+ew,ey+eh),(0,255,0),2)\n",
    "      max_x = ex if x_pos<ex else x_pos\n",
    "      max_y = ey if y_pos<ey else y_pos\n",
    "      min_w = min(ex+ew, x_pos+width)\n",
    "      min_h = min(ey+eh, y_pos+height)\n",
    "      cv2.rectangle(img,(max_x, max_y), (min_w, min_h), (0,0,255),1)\n",
    "    cv2.imshow('Example positive image visualization', img)\n",
    "  if isinstance(smile, tuple):\n",
    "    false_negatives = false_negatives+1\n",
    "  else:\n",
    "    true_positives = true_positives+1\n",
    "  counter = counter + 1"
   ]
  },
  {
   "cell_type": "markdown",
   "metadata": {
    "id": "KyKJYsEBQzo3"
   },
   "source": [
    "# New Section"
   ]
  },
  {
   "cell_type": "code",
   "execution_count": 18,
   "metadata": {
    "colab": {
     "base_uri": "https://localhost:8080/"
    },
    "id": "tPuMsMOYd7aZ",
    "outputId": "d5fa9280-58e1-4de3-91ad-5876ac588132"
   },
   "outputs": [
    {
     "name": "stdout",
     "output_type": "stream",
     "text": [
      "true positives: 3053\n",
      "false positives: 1207\n",
      "true negatives: 8268\n",
      "false negatives: 553\n",
      "precision of positives: 0.7166666666666667\n",
      "recall of positives: 0.8466444814198558\n",
      "precision of negatives: 0.937308695159279\n",
      "recall of negatives: 0.8726121372031662\n",
      "F1 score of positives: 0.7762522247648106\n",
      "F1 score of negatives: 0.9038041101880192\n",
      "accuracy: 0.8654537114899472\n"
     ]
    }
   ],
   "source": [
    "#Print results\n",
    "\n",
    "positives_precision = true_positives/(true_positives+false_positives)\n",
    "positives_recall = true_positives/(true_positives+false_negatives)\n",
    "positives_f1 = 2 * positives_precision * positives_recall / (positives_precision + positives_recall)\n",
    "negatives_precision = true_negatives/(true_negatives+false_negatives)\n",
    "negatives_recall = true_negatives/(true_negatives+false_positives)\n",
    "negatives_f1 = 2 * negatives_precision * negatives_recall / (negatives_precision + negatives_recall)\n",
    "\n",
    "\n",
    "print(\"true positives: \" + str(true_positives))\n",
    "print('false positives: ' + str(false_positives))\n",
    "print(\"true negatives: \" + str(true_negatives))\n",
    "print('false negatives: ' + str(false_negatives))\n",
    "\n",
    "print('precision of positives: ' + str(positives_precision))\n",
    "print('recall of positives: ' + str(positives_recall))\n",
    "\n",
    "print('precision of negatives: ' + str(negatives_precision))\n",
    "print('recall of negatives: ' + str(negatives_recall))\n",
    "\n",
    "print('F1 score of positives: ' + str(positives_f1))\n",
    "print('F1 score of negatives: ' + str(negatives_f1))\n",
    "\n",
    "print('accuracy: ' + str((true_positives+true_negatives)/(true_positives+true_negatives+false_positives+false_negatives)))"
   ]
  }
 ],
 "metadata": {
  "colab": {
   "collapsed_sections": [],
   "name": "Untitled0.ipynb",
   "provenance": []
  },
  "kernelspec": {
   "display_name": "Python 3",
   "language": "python",
   "name": "python3"
  },
  "language_info": {
   "codemirror_mode": {
    "name": "ipython",
    "version": 3
   },
   "file_extension": ".py",
   "mimetype": "text/x-python",
   "name": "python",
   "nbconvert_exporter": "python",
   "pygments_lexer": "ipython3",
   "version": "3.8.10"
  }
 },
 "nbformat": 4,
 "nbformat_minor": 1
}
